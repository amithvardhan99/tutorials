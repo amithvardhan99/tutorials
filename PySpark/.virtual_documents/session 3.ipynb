from pyspark.sql import *



spark = SparkSession.builder.appName("Amith").getOrCreate()
df_pyspark = spark.read.csv("test2.csv",header=True,inferSchema=True)
df_pyspark.show()


df_pyspark.printSchema()


df_pyspark.drop("Name").show()


df_pyspark.na.drop().show()


df_pyspark.na.drop(how="all").show()


df_pyspark.na.drop(thresh=2).show()



df_pyspark.na.drop(subset="Experience").show()


df_pyspark.na.fill("Missing Values",subset=["Age"]).show()


df_pyspark.show()


from pyspark.ml.feature import Imputer


imputer = Imputer(inputCols=["age","Experience","Salary"],outputCols=["age","Experience","Salary"],strategy="mean")
df = imputer.fit(df_pyspark).transform(df_pyspark)


df.show()


df_pyspark.show()



