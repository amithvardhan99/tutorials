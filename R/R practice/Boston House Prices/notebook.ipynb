{
 "cells": [
  {
   "cell_type": "code",
   "execution_count": 79,
   "metadata": {
    "vscode": {
     "languageId": "r"
    }
   },
   "outputs": [],
   "source": [
    "library(tidyverse)\n",
    "library(psych)\n"
   ]
  },
  {
   "cell_type": "code",
   "execution_count": 80,
   "metadata": {
    "vscode": {
     "languageId": "r"
    }
   },
   "outputs": [
    {
     "data": {
      "text/html": [
       "<table class=\"dataframe\">\n",
       "<caption>A data.frame: 6 × 1</caption>\n",
       "<thead>\n",
       "\t<tr><th></th><th scope=col>V1</th></tr>\n",
       "\t<tr><th></th><th scope=col>&lt;chr&gt;</th></tr>\n",
       "</thead>\n",
       "<tbody>\n",
       "\t<tr><th scope=row>1</th><td> 0.00632  18.00   2.310  0  0.5380  6.5750  65.20  4.0900   1  296.0  15.30 396.90   4.98  24.00</td></tr>\n",
       "\t<tr><th scope=row>2</th><td> 0.02731   0.00   7.070  0  0.4690  6.4210  78.90  4.9671   2  242.0  17.80 396.90   9.14  21.60</td></tr>\n",
       "\t<tr><th scope=row>3</th><td> 0.02729   0.00   7.070  0  0.4690  7.1850  61.10  4.9671   2  242.0  17.80 392.83   4.03  34.70</td></tr>\n",
       "\t<tr><th scope=row>4</th><td> 0.03237   0.00   2.180  0  0.4580  6.9980  45.80  6.0622   3  222.0  18.70 394.63   2.94  33.40</td></tr>\n",
       "\t<tr><th scope=row>5</th><td> 0.06905   0.00   2.180  0  0.4580  7.1470  54.20  6.0622   3  222.0  18.70 396.90   5.33  36.20</td></tr>\n",
       "\t<tr><th scope=row>6</th><td> 0.02985   0.00   2.180  0  0.4580  6.4300  58.70  6.0622   3  222.0  18.70 394.12   5.21  28.70</td></tr>\n",
       "</tbody>\n",
       "</table>\n"
      ],
      "text/latex": [
       "A data.frame: 6 × 1\n",
       "\\begin{tabular}{r|l}\n",
       "  & V1\\\\\n",
       "  & <chr>\\\\\n",
       "\\hline\n",
       "\t1 &  0.00632  18.00   2.310  0  0.5380  6.5750  65.20  4.0900   1  296.0  15.30 396.90   4.98  24.00\\\\\n",
       "\t2 &  0.02731   0.00   7.070  0  0.4690  6.4210  78.90  4.9671   2  242.0  17.80 396.90   9.14  21.60\\\\\n",
       "\t3 &  0.02729   0.00   7.070  0  0.4690  7.1850  61.10  4.9671   2  242.0  17.80 392.83   4.03  34.70\\\\\n",
       "\t4 &  0.03237   0.00   2.180  0  0.4580  6.9980  45.80  6.0622   3  222.0  18.70 394.63   2.94  33.40\\\\\n",
       "\t5 &  0.06905   0.00   2.180  0  0.4580  7.1470  54.20  6.0622   3  222.0  18.70 396.90   5.33  36.20\\\\\n",
       "\t6 &  0.02985   0.00   2.180  0  0.4580  6.4300  58.70  6.0622   3  222.0  18.70 394.12   5.21  28.70\\\\\n",
       "\\end{tabular}\n"
      ],
      "text/markdown": [
       "\n",
       "A data.frame: 6 × 1\n",
       "\n",
       "| <!--/--> | V1 &lt;chr&gt; |\n",
       "|---|---|\n",
       "| 1 |  0.00632  18.00   2.310  0  0.5380  6.5750  65.20  4.0900   1  296.0  15.30 396.90   4.98  24.00 |\n",
       "| 2 |  0.02731   0.00   7.070  0  0.4690  6.4210  78.90  4.9671   2  242.0  17.80 396.90   9.14  21.60 |\n",
       "| 3 |  0.02729   0.00   7.070  0  0.4690  7.1850  61.10  4.9671   2  242.0  17.80 392.83   4.03  34.70 |\n",
       "| 4 |  0.03237   0.00   2.180  0  0.4580  6.9980  45.80  6.0622   3  222.0  18.70 394.63   2.94  33.40 |\n",
       "| 5 |  0.06905   0.00   2.180  0  0.4580  7.1470  54.20  6.0622   3  222.0  18.70 396.90   5.33  36.20 |\n",
       "| 6 |  0.02985   0.00   2.180  0  0.4580  6.4300  58.70  6.0622   3  222.0  18.70 394.12   5.21  28.70 |\n",
       "\n"
      ],
      "text/plain": [
       "  V1                                                                                              \n",
       "1  0.00632  18.00   2.310  0  0.5380  6.5750  65.20  4.0900   1  296.0  15.30 396.90   4.98  24.00\n",
       "2  0.02731   0.00   7.070  0  0.4690  6.4210  78.90  4.9671   2  242.0  17.80 396.90   9.14  21.60\n",
       "3  0.02729   0.00   7.070  0  0.4690  7.1850  61.10  4.9671   2  242.0  17.80 392.83   4.03  34.70\n",
       "4  0.03237   0.00   2.180  0  0.4580  6.9980  45.80  6.0622   3  222.0  18.70 394.63   2.94  33.40\n",
       "5  0.06905   0.00   2.180  0  0.4580  7.1470  54.20  6.0622   3  222.0  18.70 396.90   5.33  36.20\n",
       "6  0.02985   0.00   2.180  0  0.4580  6.4300  58.70  6.0622   3  222.0  18.70 394.12   5.21  28.70"
      ]
     },
     "metadata": {},
     "output_type": "display_data"
    }
   ],
   "source": [
    "data = read.csv(\"housing.csv\",header=F)\n",
    "head(data)\n"
   ]
  },
  {
   "cell_type": "code",
   "execution_count": 81,
   "metadata": {
    "vscode": {
     "languageId": "r"
    }
   },
   "outputs": [
    {
     "data": {
      "text/html": [
       "14"
      ],
      "text/latex": [
       "14"
      ],
      "text/markdown": [
       "14"
      ],
      "text/plain": [
       "[1] 14"
      ]
     },
     "metadata": {},
     "output_type": "display_data"
    }
   ],
   "source": [
    "len = 0\n",
    "g = as.character(data[1,])\n",
    "h = as.vector(strsplit(g,\" \")[[1]])\n",
    "k = h[h!=\"\"]\n",
    "len = length(k)\n",
    "len\n"
   ]
  },
  {
   "cell_type": "markdown",
   "metadata": {},
   "source": [
    "Input features in order:\n",
    "\n",
    "1) CRIM: per capita crime rate by town\n",
    "\n",
    "2) ZN: proportion of residential land zoned for lots over 25,000 sq.ft.\n",
    "\n",
    "3) INDUS: proportion of non-retail business acres per town\n",
    "\n",
    "4) CHAS: Charles River dummy variable (1 if tract bounds river; 0 otherwise)\n",
    "\n",
    "5) NOX: nitric oxides concentration (parts per 10 million) [parts/10M]\n",
    "\n",
    "6) RM: average number of rooms per dwelling\n",
    "\n",
    "7) AGE: proportion of owner-occupied units built prior to 1940\n",
    "\n",
    "8) DIS: weighted distances to five Boston employment centres\n",
    "\n",
    "9) 9) RAD: index of accessibility to radial highways\n",
    "\n",
    "10) TAX: full-value property-tax rate per  10,000[\n",
    " /10k]\n",
    "\n",
    "11) PTRATIO: pupil-teacher ratio by town\n",
    "\n",
    "12) B: The result of the equation B=1000(Bk - 0.63)^2 where Bk is the proportion of blacks by town\n",
    "\n",
    "13) LSTAT: % lower status of the population\n",
    "\n",
    "Output variable:\n",
    "\n",
    "1) MEDV: Median value of owner-occupied homes in  1000′s[k]"
   ]
  },
  {
   "cell_type": "code",
   "execution_count": 82,
   "metadata": {
    "vscode": {
     "languageId": "r"
    }
   },
   "outputs": [
    {
     "data": {
      "text/html": [
       "<table class=\"dataframe\">\n",
       "<caption>A data.frame: 6 × 14</caption>\n",
       "<thead>\n",
       "\t<tr><th></th><th scope=col>CRIM</th><th scope=col>ZN</th><th scope=col>INDUS</th><th scope=col>CHAS</th><th scope=col>NOX</th><th scope=col>RM</th><th scope=col>AGE</th><th scope=col>DIS</th><th scope=col>RAD</th><th scope=col>TAX</th><th scope=col>PTRATIO</th><th scope=col>B</th><th scope=col>LSTAT</th><th scope=col>MEDV</th></tr>\n",
       "\t<tr><th></th><th scope=col>&lt;dbl&gt;</th><th scope=col>&lt;dbl&gt;</th><th scope=col>&lt;dbl&gt;</th><th scope=col>&lt;dbl&gt;</th><th scope=col>&lt;dbl&gt;</th><th scope=col>&lt;dbl&gt;</th><th scope=col>&lt;dbl&gt;</th><th scope=col>&lt;dbl&gt;</th><th scope=col>&lt;dbl&gt;</th><th scope=col>&lt;dbl&gt;</th><th scope=col>&lt;dbl&gt;</th><th scope=col>&lt;dbl&gt;</th><th scope=col>&lt;dbl&gt;</th><th scope=col>&lt;dbl&gt;</th></tr>\n",
       "</thead>\n",
       "<tbody>\n",
       "\t<tr><th scope=row>1</th><td>0.00632</td><td>18</td><td>2.31</td><td>0</td><td>0.538</td><td>6.575</td><td>65.2</td><td>4.0900</td><td>1</td><td>296</td><td>15.3</td><td>396.90</td><td>4.98</td><td>24.0</td></tr>\n",
       "\t<tr><th scope=row>2</th><td>0.02731</td><td> 0</td><td>7.07</td><td>0</td><td>0.469</td><td>6.421</td><td>78.9</td><td>4.9671</td><td>2</td><td>242</td><td>17.8</td><td>396.90</td><td>9.14</td><td>21.6</td></tr>\n",
       "\t<tr><th scope=row>3</th><td>0.02729</td><td> 0</td><td>7.07</td><td>0</td><td>0.469</td><td>7.185</td><td>61.1</td><td>4.9671</td><td>2</td><td>242</td><td>17.8</td><td>392.83</td><td>4.03</td><td>34.7</td></tr>\n",
       "\t<tr><th scope=row>4</th><td>0.03237</td><td> 0</td><td>2.18</td><td>0</td><td>0.458</td><td>6.998</td><td>45.8</td><td>6.0622</td><td>3</td><td>222</td><td>18.7</td><td>394.63</td><td>2.94</td><td>33.4</td></tr>\n",
       "\t<tr><th scope=row>5</th><td>0.06905</td><td> 0</td><td>2.18</td><td>0</td><td>0.458</td><td>7.147</td><td>54.2</td><td>6.0622</td><td>3</td><td>222</td><td>18.7</td><td>396.90</td><td>5.33</td><td>36.2</td></tr>\n",
       "\t<tr><th scope=row>6</th><td>0.02985</td><td> 0</td><td>2.18</td><td>0</td><td>0.458</td><td>6.430</td><td>58.7</td><td>6.0622</td><td>3</td><td>222</td><td>18.7</td><td>394.12</td><td>5.21</td><td>28.7</td></tr>\n",
       "</tbody>\n",
       "</table>\n"
      ],
      "text/latex": [
       "A data.frame: 6 × 14\n",
       "\\begin{tabular}{r|llllllllllllll}\n",
       "  & CRIM & ZN & INDUS & CHAS & NOX & RM & AGE & DIS & RAD & TAX & PTRATIO & B & LSTAT & MEDV\\\\\n",
       "  & <dbl> & <dbl> & <dbl> & <dbl> & <dbl> & <dbl> & <dbl> & <dbl> & <dbl> & <dbl> & <dbl> & <dbl> & <dbl> & <dbl>\\\\\n",
       "\\hline\n",
       "\t1 & 0.00632 & 18 & 2.31 & 0 & 0.538 & 6.575 & 65.2 & 4.0900 & 1 & 296 & 15.3 & 396.90 & 4.98 & 24.0\\\\\n",
       "\t2 & 0.02731 &  0 & 7.07 & 0 & 0.469 & 6.421 & 78.9 & 4.9671 & 2 & 242 & 17.8 & 396.90 & 9.14 & 21.6\\\\\n",
       "\t3 & 0.02729 &  0 & 7.07 & 0 & 0.469 & 7.185 & 61.1 & 4.9671 & 2 & 242 & 17.8 & 392.83 & 4.03 & 34.7\\\\\n",
       "\t4 & 0.03237 &  0 & 2.18 & 0 & 0.458 & 6.998 & 45.8 & 6.0622 & 3 & 222 & 18.7 & 394.63 & 2.94 & 33.4\\\\\n",
       "\t5 & 0.06905 &  0 & 2.18 & 0 & 0.458 & 7.147 & 54.2 & 6.0622 & 3 & 222 & 18.7 & 396.90 & 5.33 & 36.2\\\\\n",
       "\t6 & 0.02985 &  0 & 2.18 & 0 & 0.458 & 6.430 & 58.7 & 6.0622 & 3 & 222 & 18.7 & 394.12 & 5.21 & 28.7\\\\\n",
       "\\end{tabular}\n"
      ],
      "text/markdown": [
       "\n",
       "A data.frame: 6 × 14\n",
       "\n",
       "| <!--/--> | CRIM &lt;dbl&gt; | ZN &lt;dbl&gt; | INDUS &lt;dbl&gt; | CHAS &lt;dbl&gt; | NOX &lt;dbl&gt; | RM &lt;dbl&gt; | AGE &lt;dbl&gt; | DIS &lt;dbl&gt; | RAD &lt;dbl&gt; | TAX &lt;dbl&gt; | PTRATIO &lt;dbl&gt; | B &lt;dbl&gt; | LSTAT &lt;dbl&gt; | MEDV &lt;dbl&gt; |\n",
       "|---|---|---|---|---|---|---|---|---|---|---|---|---|---|---|\n",
       "| 1 | 0.00632 | 18 | 2.31 | 0 | 0.538 | 6.575 | 65.2 | 4.0900 | 1 | 296 | 15.3 | 396.90 | 4.98 | 24.0 |\n",
       "| 2 | 0.02731 |  0 | 7.07 | 0 | 0.469 | 6.421 | 78.9 | 4.9671 | 2 | 242 | 17.8 | 396.90 | 9.14 | 21.6 |\n",
       "| 3 | 0.02729 |  0 | 7.07 | 0 | 0.469 | 7.185 | 61.1 | 4.9671 | 2 | 242 | 17.8 | 392.83 | 4.03 | 34.7 |\n",
       "| 4 | 0.03237 |  0 | 2.18 | 0 | 0.458 | 6.998 | 45.8 | 6.0622 | 3 | 222 | 18.7 | 394.63 | 2.94 | 33.4 |\n",
       "| 5 | 0.06905 |  0 | 2.18 | 0 | 0.458 | 7.147 | 54.2 | 6.0622 | 3 | 222 | 18.7 | 396.90 | 5.33 | 36.2 |\n",
       "| 6 | 0.02985 |  0 | 2.18 | 0 | 0.458 | 6.430 | 58.7 | 6.0622 | 3 | 222 | 18.7 | 394.12 | 5.21 | 28.7 |\n",
       "\n"
      ],
      "text/plain": [
       "  CRIM    ZN INDUS CHAS NOX   RM    AGE  DIS    RAD TAX PTRATIO B      LSTAT\n",
       "1 0.00632 18 2.31  0    0.538 6.575 65.2 4.0900 1   296 15.3    396.90 4.98 \n",
       "2 0.02731  0 7.07  0    0.469 6.421 78.9 4.9671 2   242 17.8    396.90 9.14 \n",
       "3 0.02729  0 7.07  0    0.469 7.185 61.1 4.9671 2   242 17.8    392.83 4.03 \n",
       "4 0.03237  0 2.18  0    0.458 6.998 45.8 6.0622 3   222 18.7    394.63 2.94 \n",
       "5 0.06905  0 2.18  0    0.458 7.147 54.2 6.0622 3   222 18.7    396.90 5.33 \n",
       "6 0.02985  0 2.18  0    0.458 6.430 58.7 6.0622 3   222 18.7    394.12 5.21 \n",
       "  MEDV\n",
       "1 24.0\n",
       "2 21.6\n",
       "3 34.7\n",
       "4 33.4\n",
       "5 36.2\n",
       "6 28.7"
      ]
     },
     "metadata": {},
     "output_type": "display_data"
    }
   ],
   "source": [
    "df = data.frame()\n",
    "for (i in rownames(data))\n",
    "{\n",
    "    g = as.character(data[i,])\n",
    "    h = as.vector(strsplit(g,\" \")[[1]])\n",
    "    k = h[h!=\"\"]\n",
    "    for (j in 1:length(k))\n",
    "    {\n",
    "        df[i,j] = k[j]\n",
    "    }\n",
    "}\n",
    "for (i in colnames(df))\n",
    "{\n",
    "    df[,i] = as.numeric(df[,i])\n",
    "}\n",
    "colnames(df) = c(\"CRIM\", 'ZN', 'INDUS', 'CHAS', 'NOX', 'RM', 'AGE', 'DIS', 'RAD', 'TAX', 'PTRATIO', 'B', 'LSTAT', 'MEDV')\n",
    "head(df)\n"
   ]
  },
  {
   "cell_type": "code",
   "execution_count": 83,
   "metadata": {
    "vscode": {
     "languageId": "r"
    }
   },
   "outputs": [
    {
     "data": {
      "text/html": [
       "<table class=\"dataframe\">\n",
       "<caption>A psych: 14 × 13</caption>\n",
       "<thead>\n",
       "\t<tr><th></th><th scope=col>vars</th><th scope=col>n</th><th scope=col>mean</th><th scope=col>sd</th><th scope=col>median</th><th scope=col>trimmed</th><th scope=col>mad</th><th scope=col>min</th><th scope=col>max</th><th scope=col>range</th><th scope=col>skew</th><th scope=col>kurtosis</th><th scope=col>se</th></tr>\n",
       "\t<tr><th></th><th scope=col>&lt;int&gt;</th><th scope=col>&lt;dbl&gt;</th><th scope=col>&lt;dbl&gt;</th><th scope=col>&lt;dbl&gt;</th><th scope=col>&lt;dbl&gt;</th><th scope=col>&lt;dbl&gt;</th><th scope=col>&lt;dbl&gt;</th><th scope=col>&lt;dbl&gt;</th><th scope=col>&lt;dbl&gt;</th><th scope=col>&lt;dbl&gt;</th><th scope=col>&lt;dbl&gt;</th><th scope=col>&lt;dbl&gt;</th><th scope=col>&lt;dbl&gt;</th></tr>\n",
       "</thead>\n",
       "<tbody>\n",
       "\t<tr><th scope=row>CRIM</th><td> 1</td><td>506</td><td>  3.61352356</td><td>  8.6015451</td><td>  0.25651</td><td>  1.6816300</td><td>  0.3283218</td><td>  0.00632</td><td> 88.9762</td><td> 88.96988</td><td> 5.1922223</td><td>36.59581589</td><td>0.382385321</td></tr>\n",
       "\t<tr><th scope=row>ZN</th><td> 2</td><td>506</td><td> 11.36363636</td><td> 23.3224530</td><td>  0.00000</td><td>  5.0800493</td><td>  0.0000000</td><td>  0.00000</td><td>100.0000</td><td>100.00000</td><td> 2.2124881</td><td> 3.95238731</td><td>1.036809500</td></tr>\n",
       "\t<tr><th scope=row>INDUS</th><td> 3</td><td>506</td><td> 11.13677866</td><td>  6.8603529</td><td>  9.69000</td><td> 10.9318719</td><td>  9.3700320</td><td>  0.46000</td><td> 27.7400</td><td> 27.28000</td><td> 0.2932747</td><td>-1.24019490</td><td>0.304979888</td></tr>\n",
       "\t<tr><th scope=row>CHAS</th><td> 4</td><td>506</td><td>  0.06916996</td><td>  0.2539940</td><td>  0.00000</td><td>  0.0000000</td><td>  0.0000000</td><td>  0.00000</td><td>  1.0000</td><td>  1.00000</td><td> 3.3857377</td><td> 9.48197035</td><td>0.011291412</td></tr>\n",
       "\t<tr><th scope=row>NOX</th><td> 5</td><td>506</td><td>  0.55469506</td><td>  0.1158777</td><td>  0.53800</td><td>  0.5450601</td><td>  0.1297275</td><td>  0.38500</td><td>  0.8710</td><td>  0.48600</td><td> 0.7249897</td><td>-0.08741064</td><td>0.005151391</td></tr>\n",
       "\t<tr><th scope=row>RM</th><td> 6</td><td>506</td><td>  6.28463439</td><td>  0.7026171</td><td>  6.20850</td><td>  6.2528744</td><td>  0.5122383</td><td>  3.56100</td><td>  8.7800</td><td>  5.21900</td><td> 0.4012223</td><td> 1.84183241</td><td>0.031235142</td></tr>\n",
       "\t<tr><th scope=row>AGE</th><td> 7</td><td>506</td><td> 68.57490119</td><td> 28.1488614</td><td> 77.50000</td><td> 71.1960591</td><td> 28.9848300</td><td>  2.90000</td><td>100.0000</td><td> 97.10000</td><td>-0.5954162</td><td>-0.97802966</td><td>1.251369525</td></tr>\n",
       "\t<tr><th scope=row>DIS</th><td> 8</td><td>506</td><td>  3.79504269</td><td>  2.1057101</td><td>  3.20745</td><td>  3.5393786</td><td>  1.9142590</td><td>  1.12960</td><td> 12.1265</td><td> 10.99690</td><td> 1.0057898</td><td> 0.45759158</td><td>0.093610233</td></tr>\n",
       "\t<tr><th scope=row>RAD</th><td> 9</td><td>506</td><td>  9.54940711</td><td>  8.7072594</td><td>  5.00000</td><td>  8.7339901</td><td>  2.9652000</td><td>  1.00000</td><td> 24.0000</td><td> 23.00000</td><td> 0.9988651</td><td>-0.87892910</td><td>0.387084894</td></tr>\n",
       "\t<tr><th scope=row>TAX</th><td>10</td><td>506</td><td>408.23715415</td><td>168.5371161</td><td>330.00000</td><td>400.0443350</td><td>108.2298000</td><td>187.00000</td><td>711.0000</td><td>524.00000</td><td> 0.6659891</td><td>-1.15031761</td><td>7.492388692</td></tr>\n",
       "\t<tr><th scope=row>PTRATIO</th><td>11</td><td>506</td><td> 18.45553360</td><td>  2.1649455</td><td> 19.05000</td><td> 18.6625616</td><td>  1.7049900</td><td> 12.60000</td><td> 22.0000</td><td>  9.40000</td><td>-0.7975743</td><td>-0.30480100</td><td>0.096243568</td></tr>\n",
       "\t<tr><th scope=row>B</th><td>12</td><td>506</td><td>356.67403162</td><td> 91.2948644</td><td>391.44000</td><td>383.1695074</td><td>  8.0949960</td><td>  0.32000</td><td>396.9000</td><td>396.58000</td><td>-2.8732597</td><td> 7.10371496</td><td>4.058551763</td></tr>\n",
       "\t<tr><th scope=row>LSTAT</th><td>13</td><td>506</td><td> 12.65306324</td><td>  7.1410615</td><td> 11.36000</td><td> 11.8990394</td><td>  7.1090670</td><td>  1.73000</td><td> 37.9700</td><td> 36.24000</td><td> 0.9010929</td><td> 0.46281705</td><td>0.317458906</td></tr>\n",
       "\t<tr><th scope=row>MEDV</th><td>14</td><td>506</td><td> 22.53280632</td><td>  9.1971041</td><td> 21.20000</td><td> 21.5623153</td><td>  5.9304000</td><td>  5.00000</td><td> 50.0000</td><td> 45.00000</td><td> 1.1015373</td><td> 1.45098366</td><td>0.408861147</td></tr>\n",
       "</tbody>\n",
       "</table>\n"
      ],
      "text/latex": [
       "A psych: 14 × 13\n",
       "\\begin{tabular}{r|lllllllllllll}\n",
       "  & vars & n & mean & sd & median & trimmed & mad & min & max & range & skew & kurtosis & se\\\\\n",
       "  & <int> & <dbl> & <dbl> & <dbl> & <dbl> & <dbl> & <dbl> & <dbl> & <dbl> & <dbl> & <dbl> & <dbl> & <dbl>\\\\\n",
       "\\hline\n",
       "\tCRIM &  1 & 506 &   3.61352356 &   8.6015451 &   0.25651 &   1.6816300 &   0.3283218 &   0.00632 &  88.9762 &  88.96988 &  5.1922223 & 36.59581589 & 0.382385321\\\\\n",
       "\tZN &  2 & 506 &  11.36363636 &  23.3224530 &   0.00000 &   5.0800493 &   0.0000000 &   0.00000 & 100.0000 & 100.00000 &  2.2124881 &  3.95238731 & 1.036809500\\\\\n",
       "\tINDUS &  3 & 506 &  11.13677866 &   6.8603529 &   9.69000 &  10.9318719 &   9.3700320 &   0.46000 &  27.7400 &  27.28000 &  0.2932747 & -1.24019490 & 0.304979888\\\\\n",
       "\tCHAS &  4 & 506 &   0.06916996 &   0.2539940 &   0.00000 &   0.0000000 &   0.0000000 &   0.00000 &   1.0000 &   1.00000 &  3.3857377 &  9.48197035 & 0.011291412\\\\\n",
       "\tNOX &  5 & 506 &   0.55469506 &   0.1158777 &   0.53800 &   0.5450601 &   0.1297275 &   0.38500 &   0.8710 &   0.48600 &  0.7249897 & -0.08741064 & 0.005151391\\\\\n",
       "\tRM &  6 & 506 &   6.28463439 &   0.7026171 &   6.20850 &   6.2528744 &   0.5122383 &   3.56100 &   8.7800 &   5.21900 &  0.4012223 &  1.84183241 & 0.031235142\\\\\n",
       "\tAGE &  7 & 506 &  68.57490119 &  28.1488614 &  77.50000 &  71.1960591 &  28.9848300 &   2.90000 & 100.0000 &  97.10000 & -0.5954162 & -0.97802966 & 1.251369525\\\\\n",
       "\tDIS &  8 & 506 &   3.79504269 &   2.1057101 &   3.20745 &   3.5393786 &   1.9142590 &   1.12960 &  12.1265 &  10.99690 &  1.0057898 &  0.45759158 & 0.093610233\\\\\n",
       "\tRAD &  9 & 506 &   9.54940711 &   8.7072594 &   5.00000 &   8.7339901 &   2.9652000 &   1.00000 &  24.0000 &  23.00000 &  0.9988651 & -0.87892910 & 0.387084894\\\\\n",
       "\tTAX & 10 & 506 & 408.23715415 & 168.5371161 & 330.00000 & 400.0443350 & 108.2298000 & 187.00000 & 711.0000 & 524.00000 &  0.6659891 & -1.15031761 & 7.492388692\\\\\n",
       "\tPTRATIO & 11 & 506 &  18.45553360 &   2.1649455 &  19.05000 &  18.6625616 &   1.7049900 &  12.60000 &  22.0000 &   9.40000 & -0.7975743 & -0.30480100 & 0.096243568\\\\\n",
       "\tB & 12 & 506 & 356.67403162 &  91.2948644 & 391.44000 & 383.1695074 &   8.0949960 &   0.32000 & 396.9000 & 396.58000 & -2.8732597 &  7.10371496 & 4.058551763\\\\\n",
       "\tLSTAT & 13 & 506 &  12.65306324 &   7.1410615 &  11.36000 &  11.8990394 &   7.1090670 &   1.73000 &  37.9700 &  36.24000 &  0.9010929 &  0.46281705 & 0.317458906\\\\\n",
       "\tMEDV & 14 & 506 &  22.53280632 &   9.1971041 &  21.20000 &  21.5623153 &   5.9304000 &   5.00000 &  50.0000 &  45.00000 &  1.1015373 &  1.45098366 & 0.408861147\\\\\n",
       "\\end{tabular}\n"
      ],
      "text/markdown": [
       "\n",
       "A psych: 14 × 13\n",
       "\n",
       "| <!--/--> | vars &lt;int&gt; | n &lt;dbl&gt; | mean &lt;dbl&gt; | sd &lt;dbl&gt; | median &lt;dbl&gt; | trimmed &lt;dbl&gt; | mad &lt;dbl&gt; | min &lt;dbl&gt; | max &lt;dbl&gt; | range &lt;dbl&gt; | skew &lt;dbl&gt; | kurtosis &lt;dbl&gt; | se &lt;dbl&gt; |\n",
       "|---|---|---|---|---|---|---|---|---|---|---|---|---|---|\n",
       "| CRIM |  1 | 506 |   3.61352356 |   8.6015451 |   0.25651 |   1.6816300 |   0.3283218 |   0.00632 |  88.9762 |  88.96988 |  5.1922223 | 36.59581589 | 0.382385321 |\n",
       "| ZN |  2 | 506 |  11.36363636 |  23.3224530 |   0.00000 |   5.0800493 |   0.0000000 |   0.00000 | 100.0000 | 100.00000 |  2.2124881 |  3.95238731 | 1.036809500 |\n",
       "| INDUS |  3 | 506 |  11.13677866 |   6.8603529 |   9.69000 |  10.9318719 |   9.3700320 |   0.46000 |  27.7400 |  27.28000 |  0.2932747 | -1.24019490 | 0.304979888 |\n",
       "| CHAS |  4 | 506 |   0.06916996 |   0.2539940 |   0.00000 |   0.0000000 |   0.0000000 |   0.00000 |   1.0000 |   1.00000 |  3.3857377 |  9.48197035 | 0.011291412 |\n",
       "| NOX |  5 | 506 |   0.55469506 |   0.1158777 |   0.53800 |   0.5450601 |   0.1297275 |   0.38500 |   0.8710 |   0.48600 |  0.7249897 | -0.08741064 | 0.005151391 |\n",
       "| RM |  6 | 506 |   6.28463439 |   0.7026171 |   6.20850 |   6.2528744 |   0.5122383 |   3.56100 |   8.7800 |   5.21900 |  0.4012223 |  1.84183241 | 0.031235142 |\n",
       "| AGE |  7 | 506 |  68.57490119 |  28.1488614 |  77.50000 |  71.1960591 |  28.9848300 |   2.90000 | 100.0000 |  97.10000 | -0.5954162 | -0.97802966 | 1.251369525 |\n",
       "| DIS |  8 | 506 |   3.79504269 |   2.1057101 |   3.20745 |   3.5393786 |   1.9142590 |   1.12960 |  12.1265 |  10.99690 |  1.0057898 |  0.45759158 | 0.093610233 |\n",
       "| RAD |  9 | 506 |   9.54940711 |   8.7072594 |   5.00000 |   8.7339901 |   2.9652000 |   1.00000 |  24.0000 |  23.00000 |  0.9988651 | -0.87892910 | 0.387084894 |\n",
       "| TAX | 10 | 506 | 408.23715415 | 168.5371161 | 330.00000 | 400.0443350 | 108.2298000 | 187.00000 | 711.0000 | 524.00000 |  0.6659891 | -1.15031761 | 7.492388692 |\n",
       "| PTRATIO | 11 | 506 |  18.45553360 |   2.1649455 |  19.05000 |  18.6625616 |   1.7049900 |  12.60000 |  22.0000 |   9.40000 | -0.7975743 | -0.30480100 | 0.096243568 |\n",
       "| B | 12 | 506 | 356.67403162 |  91.2948644 | 391.44000 | 383.1695074 |   8.0949960 |   0.32000 | 396.9000 | 396.58000 | -2.8732597 |  7.10371496 | 4.058551763 |\n",
       "| LSTAT | 13 | 506 |  12.65306324 |   7.1410615 |  11.36000 |  11.8990394 |   7.1090670 |   1.73000 |  37.9700 |  36.24000 |  0.9010929 |  0.46281705 | 0.317458906 |\n",
       "| MEDV | 14 | 506 |  22.53280632 |   9.1971041 |  21.20000 |  21.5623153 |   5.9304000 |   5.00000 |  50.0000 |  45.00000 |  1.1015373 |  1.45098366 | 0.408861147 |\n",
       "\n"
      ],
      "text/plain": [
       "        vars n   mean         sd          median    trimmed     mad        \n",
       "CRIM     1   506   3.61352356   8.6015451   0.25651   1.6816300   0.3283218\n",
       "ZN       2   506  11.36363636  23.3224530   0.00000   5.0800493   0.0000000\n",
       "INDUS    3   506  11.13677866   6.8603529   9.69000  10.9318719   9.3700320\n",
       "CHAS     4   506   0.06916996   0.2539940   0.00000   0.0000000   0.0000000\n",
       "NOX      5   506   0.55469506   0.1158777   0.53800   0.5450601   0.1297275\n",
       "RM       6   506   6.28463439   0.7026171   6.20850   6.2528744   0.5122383\n",
       "AGE      7   506  68.57490119  28.1488614  77.50000  71.1960591  28.9848300\n",
       "DIS      8   506   3.79504269   2.1057101   3.20745   3.5393786   1.9142590\n",
       "RAD      9   506   9.54940711   8.7072594   5.00000   8.7339901   2.9652000\n",
       "TAX     10   506 408.23715415 168.5371161 330.00000 400.0443350 108.2298000\n",
       "PTRATIO 11   506  18.45553360   2.1649455  19.05000  18.6625616   1.7049900\n",
       "B       12   506 356.67403162  91.2948644 391.44000 383.1695074   8.0949960\n",
       "LSTAT   13   506  12.65306324   7.1410615  11.36000  11.8990394   7.1090670\n",
       "MEDV    14   506  22.53280632   9.1971041  21.20000  21.5623153   5.9304000\n",
       "        min       max      range     skew       kurtosis    se         \n",
       "CRIM      0.00632  88.9762  88.96988  5.1922223 36.59581589 0.382385321\n",
       "ZN        0.00000 100.0000 100.00000  2.2124881  3.95238731 1.036809500\n",
       "INDUS     0.46000  27.7400  27.28000  0.2932747 -1.24019490 0.304979888\n",
       "CHAS      0.00000   1.0000   1.00000  3.3857377  9.48197035 0.011291412\n",
       "NOX       0.38500   0.8710   0.48600  0.7249897 -0.08741064 0.005151391\n",
       "RM        3.56100   8.7800   5.21900  0.4012223  1.84183241 0.031235142\n",
       "AGE       2.90000 100.0000  97.10000 -0.5954162 -0.97802966 1.251369525\n",
       "DIS       1.12960  12.1265  10.99690  1.0057898  0.45759158 0.093610233\n",
       "RAD       1.00000  24.0000  23.00000  0.9988651 -0.87892910 0.387084894\n",
       "TAX     187.00000 711.0000 524.00000  0.6659891 -1.15031761 7.492388692\n",
       "PTRATIO  12.60000  22.0000   9.40000 -0.7975743 -0.30480100 0.096243568\n",
       "B         0.32000 396.9000 396.58000 -2.8732597  7.10371496 4.058551763\n",
       "LSTAT     1.73000  37.9700  36.24000  0.9010929  0.46281705 0.317458906\n",
       "MEDV      5.00000  50.0000  45.00000  1.1015373  1.45098366 0.408861147"
      ]
     },
     "metadata": {},
     "output_type": "display_data"
    }
   ],
   "source": [
    "describe(df)\n"
   ]
  },
  {
   "cell_type": "code",
   "execution_count": 84,
   "metadata": {
    "vscode": {
     "languageId": "r"
    }
   },
   "outputs": [
    {
     "data": {
      "text/plain": [
       "      CRIM                ZN             INDUS            CHAS        \n",
       " Min.   : 0.00632   Min.   :  0.00   Min.   : 0.46   Min.   :0.00000  \n",
       " 1st Qu.: 0.08205   1st Qu.:  0.00   1st Qu.: 5.19   1st Qu.:0.00000  \n",
       " Median : 0.25651   Median :  0.00   Median : 9.69   Median :0.00000  \n",
       " Mean   : 3.61352   Mean   : 11.36   Mean   :11.14   Mean   :0.06917  \n",
       " 3rd Qu.: 3.67708   3rd Qu.: 12.50   3rd Qu.:18.10   3rd Qu.:0.00000  \n",
       " Max.   :88.97620   Max.   :100.00   Max.   :27.74   Max.   :1.00000  \n",
       "      NOX               RM             AGE              DIS        \n",
       " Min.   :0.3850   Min.   :3.561   Min.   :  2.90   Min.   : 1.130  \n",
       " 1st Qu.:0.4490   1st Qu.:5.886   1st Qu.: 45.02   1st Qu.: 2.100  \n",
       " Median :0.5380   Median :6.208   Median : 77.50   Median : 3.207  \n",
       " Mean   :0.5547   Mean   :6.285   Mean   : 68.57   Mean   : 3.795  \n",
       " 3rd Qu.:0.6240   3rd Qu.:6.623   3rd Qu.: 94.08   3rd Qu.: 5.188  \n",
       " Max.   :0.8710   Max.   :8.780   Max.   :100.00   Max.   :12.127  \n",
       "      RAD              TAX           PTRATIO            B         \n",
       " Min.   : 1.000   Min.   :187.0   Min.   :12.60   Min.   :  0.32  \n",
       " 1st Qu.: 4.000   1st Qu.:279.0   1st Qu.:17.40   1st Qu.:375.38  \n",
       " Median : 5.000   Median :330.0   Median :19.05   Median :391.44  \n",
       " Mean   : 9.549   Mean   :408.2   Mean   :18.46   Mean   :356.67  \n",
       " 3rd Qu.:24.000   3rd Qu.:666.0   3rd Qu.:20.20   3rd Qu.:396.23  \n",
       " Max.   :24.000   Max.   :711.0   Max.   :22.00   Max.   :396.90  \n",
       "     LSTAT            MEDV      \n",
       " Min.   : 1.73   Min.   : 5.00  \n",
       " 1st Qu.: 6.95   1st Qu.:17.02  \n",
       " Median :11.36   Median :21.20  \n",
       " Mean   :12.65   Mean   :22.53  \n",
       " 3rd Qu.:16.95   3rd Qu.:25.00  \n",
       " Max.   :37.97   Max.   :50.00  "
      ]
     },
     "metadata": {},
     "output_type": "display_data"
    }
   ],
   "source": [
    "summary(df)\n"
   ]
  },
  {
   "cell_type": "code",
   "execution_count": 85,
   "metadata": {
    "vscode": {
     "languageId": "r"
    }
   },
   "outputs": [
    {
     "data": {
      "text/html": [
       "0"
      ],
      "text/latex": [
       "0"
      ],
      "text/markdown": [
       "0"
      ],
      "text/plain": [
       "[1] 0"
      ]
     },
     "metadata": {},
     "output_type": "display_data"
    }
   ],
   "source": [
    "sum(is.na(df))\n"
   ]
  },
  {
   "cell_type": "code",
   "execution_count": 86,
   "metadata": {
    "vscode": {
     "languageId": "r"
    }
   },
   "outputs": [
    {
     "data": {
      "text/html": [
       "0"
      ],
      "text/latex": [
       "0"
      ],
      "text/markdown": [
       "0"
      ],
      "text/plain": [
       "[1] 0"
      ]
     },
     "metadata": {},
     "output_type": "display_data"
    }
   ],
   "source": [
    "sum(duplicated(df))\n"
   ]
  },
  {
   "cell_type": "code",
   "execution_count": 87,
   "metadata": {
    "vscode": {
     "languageId": "r"
    }
   },
   "outputs": [],
   "source": [
    "no_of_rows = dim(df)[1]\n",
    "train_rows = round(0.75 * no_of_rows)\n",
    "\n",
    "rownames(df) = 1:no_of_rows\n",
    "\n",
    "train = as.data.frame(df[1:train_rows,])\n",
    "test = as.data.frame(df[train_rows+1:no_of_rows,])\n"
   ]
  },
  {
   "cell_type": "code",
   "execution_count": 103,
   "metadata": {
    "vscode": {
     "languageId": "r"
    }
   },
   "outputs": [
    {
     "data": {
      "text/html": [
       "<span style=white-space:pre-wrap>'MEDV  ~  CRIM + ZN + INDUS + CHAS + NOX + RM + AGE + DIS + RAD + TAX + PTRATIO + B + LSTAT'</span>"
      ],
      "text/latex": [
       "'MEDV  \\textasciitilde{}  CRIM + ZN + INDUS + CHAS + NOX + RM + AGE + DIS + RAD + TAX + PTRATIO + B + LSTAT'"
      ],
      "text/markdown": [
       "<span style=white-space:pre-wrap>'MEDV  ~  CRIM + ZN + INDUS + CHAS + NOX + RM + AGE + DIS + RAD + TAX + PTRATIO + B + LSTAT'</span>"
      ],
      "text/plain": [
       "[1] \"MEDV  ~  CRIM + ZN + INDUS + CHAS + NOX + RM + AGE + DIS + RAD + TAX + PTRATIO + B + LSTAT\""
      ]
     },
     "metadata": {},
     "output_type": "display_data"
    }
   ],
   "source": [
    "cols = as.vector(colnames(train))\n",
    "input_cols = cols[1:length(cols)-1]\n",
    "output_col = cols[length(cols)]\n",
    "input_cols = paste(input_cols,collapse=\" + \")\n",
    "lk = paste(output_col,\" ~ \",input_cols)\n",
    "lk\n"
   ]
  },
  {
   "cell_type": "code",
   "execution_count": 123,
   "metadata": {
    "vscode": {
     "languageId": "r"
    }
   },
   "outputs": [],
   "source": [
    "linear_reg = lm(lk,data=df)\n",
    "y_pred = as.vector(predict(linear_reg,test[,1:13]))[1:126]\n",
    "y_test = as.vector(test$MEDV)[1:126]\n"
   ]
  },
  {
   "cell_type": "code",
   "execution_count": 127,
   "metadata": {
    "vscode": {
     "languageId": "r"
    }
   },
   "outputs": [
    {
     "data": {
      "text/html": [
       "4.14965042668033"
      ],
      "text/latex": [
       "4.14965042668033"
      ],
      "text/markdown": [
       "4.14965042668033"
      ],
      "text/plain": [
       "[1] 4.14965"
      ]
     },
     "metadata": {},
     "output_type": "display_data"
    }
   ],
   "source": [
    "sqrt(sum((y_pred - y_test)^2)/126)\n"
   ]
  },
  {
   "cell_type": "code",
   "execution_count": 120,
   "metadata": {
    "vscode": {
     "languageId": "r"
    }
   },
   "outputs": [],
   "source": []
  },
  {
   "cell_type": "code",
   "execution_count": null,
   "metadata": {
    "vscode": {
     "languageId": "r"
    }
   },
   "outputs": [],
   "source": []
  }
 ],
 "metadata": {
  "kernelspec": {
   "display_name": "R",
   "language": "R",
   "name": "ir"
  },
  "language_info": {
   "codemirror_mode": "r",
   "file_extension": ".r",
   "mimetype": "text/x-r-source",
   "name": "R",
   "pygments_lexer": "r",
   "version": "4.3.3"
  }
 },
 "nbformat": 4,
 "nbformat_minor": 2
}
