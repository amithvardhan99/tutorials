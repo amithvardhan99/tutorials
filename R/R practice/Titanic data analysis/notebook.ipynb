{
 "cells": [
  {
   "cell_type": "code",
   "execution_count": 1,
   "metadata": {
    "vscode": {
     "languageId": "r"
    }
   },
   "outputs": [
    {
     "name": "stderr",
     "output_type": "stream",
     "text": [
      "Loading required package: lattice\n",
      "Loading required package: ggplot2\n",
      "Registered S3 methods overwritten by 'ggplot2':\n",
      "  method         from \n",
      "  [.quosures     rlang\n",
      "  c.quosures     rlang\n",
      "  print.quosures rlang\n"
     ]
    }
   ],
   "source": [
    "library(caret)\n"
   ]
  },
  {
   "cell_type": "code",
   "execution_count": 2,
   "metadata": {
    "vscode": {
     "languageId": "r"
    }
   },
   "outputs": [
    {
     "data": {
      "text/html": [
       "<table>\n",
       "<thead><tr><th scope=col>PassengerId</th><th scope=col>Survived</th><th scope=col>Pclass</th><th scope=col>Name</th><th scope=col>Sex</th><th scope=col>Age</th><th scope=col>SibSp</th><th scope=col>Parch</th><th scope=col>Ticket</th><th scope=col>Fare</th><th scope=col>Cabin</th><th scope=col>Embarked</th></tr></thead>\n",
       "<tbody>\n",
       "\t<tr><td>892                                         </td><td>0                                           </td><td>3                                           </td><td>Kelly, Mr. James                            </td><td>male                                        </td><td>34.5                                        </td><td>0                                           </td><td>0                                           </td><td>330911                                      </td><td> 7.8292                                     </td><td>                                            </td><td>Q                                           </td></tr>\n",
       "\t<tr><td>893                                         </td><td>1                                           </td><td>3                                           </td><td>Wilkes, Mrs. James (Ellen Needs)            </td><td>female                                      </td><td>47.0                                        </td><td>1                                           </td><td>0                                           </td><td>363272                                      </td><td> 7.0000                                     </td><td>                                            </td><td>S                                           </td></tr>\n",
       "\t<tr><td>894                                         </td><td>0                                           </td><td>2                                           </td><td>Myles, Mr. Thomas Francis                   </td><td>male                                        </td><td>62.0                                        </td><td>0                                           </td><td>0                                           </td><td>240276                                      </td><td> 9.6875                                     </td><td>                                            </td><td>Q                                           </td></tr>\n",
       "\t<tr><td>895                                         </td><td>0                                           </td><td>3                                           </td><td>Wirz, Mr. Albert                            </td><td>male                                        </td><td>27.0                                        </td><td>0                                           </td><td>0                                           </td><td>315154                                      </td><td> 8.6625                                     </td><td>                                            </td><td>S                                           </td></tr>\n",
       "\t<tr><td>896                                         </td><td>1                                           </td><td>3                                           </td><td>Hirvonen, Mrs. Alexander (Helga E Lindqvist)</td><td>female                                      </td><td>22.0                                        </td><td>1                                           </td><td>1                                           </td><td>3101298                                     </td><td>12.2875                                     </td><td>                                            </td><td>S                                           </td></tr>\n",
       "\t<tr><td>897                                         </td><td>0                                           </td><td>3                                           </td><td>Svensson, Mr. Johan Cervin                  </td><td>male                                        </td><td>14.0                                        </td><td>0                                           </td><td>0                                           </td><td>7538                                        </td><td> 9.2250                                     </td><td>                                            </td><td>S                                           </td></tr>\n",
       "</tbody>\n",
       "</table>\n"
      ],
      "text/latex": [
       "\\begin{tabular}{r|llllllllllll}\n",
       " PassengerId & Survived & Pclass & Name & Sex & Age & SibSp & Parch & Ticket & Fare & Cabin & Embarked\\\\\n",
       "\\hline\n",
       "\t 892                                          & 0                                            & 3                                            & Kelly, Mr. James                             & male                                         & 34.5                                         & 0                                            & 0                                            & 330911                                       &  7.8292                                      &                                              & Q                                           \\\\\n",
       "\t 893                                          & 1                                            & 3                                            & Wilkes, Mrs. James (Ellen Needs)             & female                                       & 47.0                                         & 1                                            & 0                                            & 363272                                       &  7.0000                                      &                                              & S                                           \\\\\n",
       "\t 894                                          & 0                                            & 2                                            & Myles, Mr. Thomas Francis                    & male                                         & 62.0                                         & 0                                            & 0                                            & 240276                                       &  9.6875                                      &                                              & Q                                           \\\\\n",
       "\t 895                                          & 0                                            & 3                                            & Wirz, Mr. Albert                             & male                                         & 27.0                                         & 0                                            & 0                                            & 315154                                       &  8.6625                                      &                                              & S                                           \\\\\n",
       "\t 896                                          & 1                                            & 3                                            & Hirvonen, Mrs. Alexander (Helga E Lindqvist) & female                                       & 22.0                                         & 1                                            & 1                                            & 3101298                                      & 12.2875                                      &                                              & S                                           \\\\\n",
       "\t 897                                          & 0                                            & 3                                            & Svensson, Mr. Johan Cervin                   & male                                         & 14.0                                         & 0                                            & 0                                            & 7538                                         &  9.2250                                      &                                              & S                                           \\\\\n",
       "\\end{tabular}\n"
      ],
      "text/markdown": [
       "\n",
       "| PassengerId | Survived | Pclass | Name | Sex | Age | SibSp | Parch | Ticket | Fare | Cabin | Embarked |\n",
       "|---|---|---|---|---|---|---|---|---|---|---|---|\n",
       "| 892                                          | 0                                            | 3                                            | Kelly, Mr. James                             | male                                         | 34.5                                         | 0                                            | 0                                            | 330911                                       |  7.8292                                      |                                              | Q                                            |\n",
       "| 893                                          | 1                                            | 3                                            | Wilkes, Mrs. James (Ellen Needs)             | female                                       | 47.0                                         | 1                                            | 0                                            | 363272                                       |  7.0000                                      |                                              | S                                            |\n",
       "| 894                                          | 0                                            | 2                                            | Myles, Mr. Thomas Francis                    | male                                         | 62.0                                         | 0                                            | 0                                            | 240276                                       |  9.6875                                      |                                              | Q                                            |\n",
       "| 895                                          | 0                                            | 3                                            | Wirz, Mr. Albert                             | male                                         | 27.0                                         | 0                                            | 0                                            | 315154                                       |  8.6625                                      |                                              | S                                            |\n",
       "| 896                                          | 1                                            | 3                                            | Hirvonen, Mrs. Alexander (Helga E Lindqvist) | female                                       | 22.0                                         | 1                                            | 1                                            | 3101298                                      | 12.2875                                      |                                              | S                                            |\n",
       "| 897                                          | 0                                            | 3                                            | Svensson, Mr. Johan Cervin                   | male                                         | 14.0                                         | 0                                            | 0                                            | 7538                                         |  9.2250                                      |                                              | S                                            |\n",
       "\n"
      ],
      "text/plain": [
       "  PassengerId Survived Pclass Name                                        \n",
       "1 892         0        3      Kelly, Mr. James                            \n",
       "2 893         1        3      Wilkes, Mrs. James (Ellen Needs)            \n",
       "3 894         0        2      Myles, Mr. Thomas Francis                   \n",
       "4 895         0        3      Wirz, Mr. Albert                            \n",
       "5 896         1        3      Hirvonen, Mrs. Alexander (Helga E Lindqvist)\n",
       "6 897         0        3      Svensson, Mr. Johan Cervin                  \n",
       "  Sex    Age  SibSp Parch Ticket  Fare    Cabin Embarked\n",
       "1 male   34.5 0     0     330911   7.8292       Q       \n",
       "2 female 47.0 1     0     363272   7.0000       S       \n",
       "3 male   62.0 0     0     240276   9.6875       Q       \n",
       "4 male   27.0 0     0     315154   8.6625       S       \n",
       "5 female 22.0 1     1     3101298 12.2875       S       \n",
       "6 male   14.0 0     0     7538     9.2250       S       "
      ]
     },
     "metadata": {},
     "output_type": "display_data"
    }
   ],
   "source": [
    "df = read.csv(\"titanic.csv\")\n",
    "head(df)\n"
   ]
  },
  {
   "cell_type": "code",
   "execution_count": 3,
   "metadata": {
    "vscode": {
     "languageId": "r"
    }
   },
   "outputs": [],
   "source": [
    "retrieve_factor_columns = function(df)\n",
    "{\n",
    "    data_types = as.data.frame(sapply(df,class))\n",
    "    indices = rownames(data_types)\n",
    "    colnames(data_types) = \"Data_Type\"\n",
    "    data_types$Column_Name = rownames(data_types)\n",
    "    rownames(data_types) = 1:dim(data_types)[1]\n",
    "    data_types = data_types[,c(\"Column_Name\",\"Data_Type\")]\n",
    "    factors = data_types[data_types$Data_Type == \"factor\",]\n",
    "    rownames(factors) = 1:dim(factors)[1]\n",
    "    factor_columns = factors$Column_Name\n",
    "    return(factor_columns)\n",
    "}\n"
   ]
  },
  {
   "cell_type": "code",
   "execution_count": 4,
   "metadata": {
    "vscode": {
     "languageId": "r"
    }
   },
   "outputs": [
    {
     "name": "stderr",
     "output_type": "stream",
     "text": [
      "Warning message in eval(expr, envir, enclos):\n",
      "\"NAs introduced by coercion\""
     ]
    },
    {
     "data": {
      "text/html": [
       "<table>\n",
       "<thead><tr><th scope=col>Survived</th><th scope=col>Pclass</th><th scope=col>Sex</th><th scope=col>Age</th><th scope=col>SibSp</th><th scope=col>Parch</th><th scope=col>Ticket</th><th scope=col>Fare</th><th scope=col>Embarked</th></tr></thead>\n",
       "<tbody>\n",
       "\t<tr><td>0      </td><td>3      </td><td>1      </td><td>34.5   </td><td>0      </td><td>0      </td><td> 330911</td><td> 7.8292</td><td>1      </td></tr>\n",
       "\t<tr><td>1      </td><td>3      </td><td>0      </td><td>47.0   </td><td>1      </td><td>0      </td><td> 363272</td><td> 7.0000</td><td>2      </td></tr>\n",
       "\t<tr><td>0      </td><td>2      </td><td>1      </td><td>62.0   </td><td>0      </td><td>0      </td><td> 240276</td><td> 9.6875</td><td>1      </td></tr>\n",
       "\t<tr><td>0      </td><td>3      </td><td>1      </td><td>27.0   </td><td>0      </td><td>0      </td><td> 315154</td><td> 8.6625</td><td>2      </td></tr>\n",
       "\t<tr><td>1      </td><td>3      </td><td>0      </td><td>22.0   </td><td>1      </td><td>1      </td><td>3101298</td><td>12.2875</td><td>2      </td></tr>\n",
       "\t<tr><td>0      </td><td>3      </td><td>1      </td><td>14.0   </td><td>0      </td><td>0      </td><td>   7538</td><td> 9.2250</td><td>2      </td></tr>\n",
       "</tbody>\n",
       "</table>\n"
      ],
      "text/latex": [
       "\\begin{tabular}{r|lllllllll}\n",
       " Survived & Pclass & Sex & Age & SibSp & Parch & Ticket & Fare & Embarked\\\\\n",
       "\\hline\n",
       "\t 0       & 3       & 1       & 34.5    & 0       & 0       &  330911 &  7.8292 & 1      \\\\\n",
       "\t 1       & 3       & 0       & 47.0    & 1       & 0       &  363272 &  7.0000 & 2      \\\\\n",
       "\t 0       & 2       & 1       & 62.0    & 0       & 0       &  240276 &  9.6875 & 1      \\\\\n",
       "\t 0       & 3       & 1       & 27.0    & 0       & 0       &  315154 &  8.6625 & 2      \\\\\n",
       "\t 1       & 3       & 0       & 22.0    & 1       & 1       & 3101298 & 12.2875 & 2      \\\\\n",
       "\t 0       & 3       & 1       & 14.0    & 0       & 0       &    7538 &  9.2250 & 2      \\\\\n",
       "\\end{tabular}\n"
      ],
      "text/markdown": [
       "\n",
       "| Survived | Pclass | Sex | Age | SibSp | Parch | Ticket | Fare | Embarked |\n",
       "|---|---|---|---|---|---|---|---|---|\n",
       "| 0       | 3       | 1       | 34.5    | 0       | 0       |  330911 |  7.8292 | 1       |\n",
       "| 1       | 3       | 0       | 47.0    | 1       | 0       |  363272 |  7.0000 | 2       |\n",
       "| 0       | 2       | 1       | 62.0    | 0       | 0       |  240276 |  9.6875 | 1       |\n",
       "| 0       | 3       | 1       | 27.0    | 0       | 0       |  315154 |  8.6625 | 2       |\n",
       "| 1       | 3       | 0       | 22.0    | 1       | 1       | 3101298 | 12.2875 | 2       |\n",
       "| 0       | 3       | 1       | 14.0    | 0       | 0       |    7538 |  9.2250 | 2       |\n",
       "\n"
      ],
      "text/plain": [
       "  Survived Pclass Sex Age  SibSp Parch Ticket  Fare    Embarked\n",
       "1 0        3      1   34.5 0     0      330911  7.8292 1       \n",
       "2 1        3      0   47.0 1     0      363272  7.0000 2       \n",
       "3 0        2      1   62.0 0     0      240276  9.6875 1       \n",
       "4 0        3      1   27.0 0     0      315154  8.6625 2       \n",
       "5 1        3      0   22.0 1     1     3101298 12.2875 2       \n",
       "6 0        3      1   14.0 0     0        7538  9.2250 2       "
      ]
     },
     "metadata": {},
     "output_type": "display_data"
    }
   ],
   "source": [
    "df_1 = df[,!colnames(df) %in% c(\"Cabin\",\"Name\",\"PassengerId\")]\n",
    "df_1$Ticket = as.numeric(as.character(df_1$Ticket))\n",
    "df_1$Sex = as.numeric(factor(x=df_1$Sex)) - 1\n",
    "df_1$Embarked = as.numeric(factor(x=df_1$Embarked)) - 1\n",
    "df_1 = df_1[!duplicated(df_1),]\n",
    "df_1 = na.omit(df_1)\n",
    "head(df_1)\n"
   ]
  },
  {
   "cell_type": "code",
   "execution_count": 8,
   "metadata": {
    "vscode": {
     "languageId": "r"
    }
   },
   "outputs": [],
   "source": [
    "X = df_1[,!colnames(df_1) %in% c(\"Survived\")]\n",
    "rownames(X) = 1:dim(X)[1]\n",
    "y = as.data.frame(df_1[,\"Survived\"])\n",
    "rownames(y) = 1:dim(y)[1]\n",
    "indices = 1:dim(X)[1]\n",
    "indices_shuffled = sample(indices)\n",
    "train_indices = indices[1:round(0.8*dim(X)[1])]\n",
    "test_indices = indices[round(0.8*dim(X)[1])+1:dim(X)[1]]\n"
   ]
  },
  {
   "cell_type": "code",
   "execution_count": 29,
   "metadata": {
    "vscode": {
     "languageId": "r"
    }
   },
   "outputs": [],
   "source": [
    "X_train = na.omit(X[train_indices,])\n",
    "X_test = na.omit(X[test_indices,])\n",
    "y_train = na.omit(y[train_indices,])\n",
    "y_test = na.omit(y[test_indices,])\n"
   ]
  },
  {
   "cell_type": "code",
   "execution_count": 30,
   "metadata": {
    "vscode": {
     "languageId": "r"
    }
   },
   "outputs": [],
   "source": [
    "linear_reg = lm(X_train,X_test)\n",
    "y_pred = predict(linear_reg,X_test)\n"
   ]
  },
  {
   "cell_type": "code",
   "execution_count": 32,
   "metadata": {
    "vscode": {
     "languageId": "r"
    }
   },
   "outputs": [],
   "source": [
    "rms_error = sqrt((sum(abs(y_test - y_pred)*abs(y_test - y_pred)))/dim(X_test)[1])\n"
   ]
  },
  {
   "cell_type": "code",
   "execution_count": 33,
   "metadata": {
    "vscode": {
     "languageId": "r"
    }
   },
   "outputs": [
    {
     "data": {
      "text/html": [
       "1.8964255959902"
      ],
      "text/latex": [
       "1.8964255959902"
      ],
      "text/markdown": [
       "1.8964255959902"
      ],
      "text/plain": [
       "[1] 1.896426"
      ]
     },
     "metadata": {},
     "output_type": "display_data"
    }
   ],
   "source": [
    "rms_error\n"
   ]
  },
  {
   "cell_type": "code",
   "execution_count": 34,
   "metadata": {
    "vscode": {
     "languageId": "r"
    }
   },
   "outputs": [
    {
     "data": {
      "text/plain": [
       "    Survived          Pclass          Sex              Age       \n",
       " Min.   :0.0000   Min.   :1.00   Min.   :0.0000   Min.   : 0.33  \n",
       " 1st Qu.:0.0000   1st Qu.:1.00   1st Qu.:0.0000   1st Qu.:21.00  \n",
       " Median :0.0000   Median :2.00   Median :1.0000   Median :27.00  \n",
       " Mean   :0.3636   Mean   :2.19   Mean   :0.6364   Mean   :30.00  \n",
       " 3rd Qu.:1.0000   3rd Qu.:3.00   3rd Qu.:1.0000   3rd Qu.:38.00  \n",
       " Max.   :1.0000   Max.   :3.00   Max.   :1.0000   Max.   :76.00  \n",
       "     SibSp            Parch            Ticket             Fare        \n",
       " Min.   :0.0000   Min.   :0.0000   Min.   :    680   Min.   :  0.000  \n",
       " 1st Qu.:0.0000   1st Qu.:0.0000   1st Qu.:  20589   1st Qu.:  7.896  \n",
       " Median :0.0000   Median :0.0000   Median : 228414   Median : 13.500  \n",
       " Mean   :0.4545   Mean   :0.3377   Mean   : 232095   Mean   : 34.003  \n",
       " 3rd Qu.:1.0000   3rd Qu.:0.0000   3rd Qu.: 347071   3rd Qu.: 31.944  \n",
       " Max.   :4.0000   Max.   :5.0000   Max.   :3101298   Max.   :263.000  \n",
       "    Embarked    \n",
       " Min.   :0.000  \n",
       " 1st Qu.:1.000  \n",
       " Median :2.000  \n",
       " Mean   :1.494  \n",
       " 3rd Qu.:2.000  \n",
       " Max.   :2.000  "
      ]
     },
     "metadata": {},
     "output_type": "display_data"
    }
   ],
   "source": [
    "summary(df_1)\n"
   ]
  },
  {
   "cell_type": "code",
   "execution_count": 35,
   "metadata": {
    "vscode": {
     "languageId": "r"
    }
   },
   "outputs": [
    {
     "data": {
      "image/png": "[encoded data removed]",
      "text/plain": [
       "Plot with title \"\""
      ]
     },
     "metadata": {},
     "output_type": "display_data"
    },
    {
     "data": {
      "image/png": "[encoded data removed]",
      "text/plain": [
       "Plot with title \"\""
      ]
     },
     "metadata": {},
     "output_type": "display_data"
    },
    {
     "data": {
      "image/png": "[encoded data removed]",
      "text/plain": [
       "Plot with title \"\""
      ]
     },
     "metadata": {},
     "output_type": "display_data"
    },
    {
     "data": {
      "image/png": "[encoded data removed]",
      "text/plain": [
       "Plot with title \"\""
      ]
     },
     "metadata": {},
     "output_type": "display_data"
    }
   ],
   "source": [
    "plot(linear_reg)\n"
   ]
  },
  {
   "cell_type": "code",
   "execution_count": 36,
   "metadata": {
    "vscode": {
     "languageId": "r"
    }
   },
   "outputs": [
    {
     "data": {
      "text/html": [
       "<table>\n",
       "<thead><tr><th scope=col>Survived</th><th scope=col>Pclass</th><th scope=col>Sex</th><th scope=col>Age</th><th scope=col>SibSp</th><th scope=col>Parch</th><th scope=col>Ticket</th><th scope=col>Fare</th><th scope=col>Embarked</th></tr></thead>\n",
       "<tbody>\n",
       "\t<tr><td>0      </td><td>3      </td><td>1      </td><td>34.5   </td><td>0      </td><td>0      </td><td> 330911</td><td> 7.8292</td><td>1      </td></tr>\n",
       "\t<tr><td>1      </td><td>3      </td><td>0      </td><td>47.0   </td><td>1      </td><td>0      </td><td> 363272</td><td> 7.0000</td><td>2      </td></tr>\n",
       "\t<tr><td>0      </td><td>2      </td><td>1      </td><td>62.0   </td><td>0      </td><td>0      </td><td> 240276</td><td> 9.6875</td><td>1      </td></tr>\n",
       "\t<tr><td>0      </td><td>3      </td><td>1      </td><td>27.0   </td><td>0      </td><td>0      </td><td> 315154</td><td> 8.6625</td><td>2      </td></tr>\n",
       "\t<tr><td>1      </td><td>3      </td><td>0      </td><td>22.0   </td><td>1      </td><td>1      </td><td>3101298</td><td>12.2875</td><td>2      </td></tr>\n",
       "\t<tr><td>0      </td><td>3      </td><td>1      </td><td>14.0   </td><td>0      </td><td>0      </td><td>   7538</td><td> 9.2250</td><td>2      </td></tr>\n",
       "</tbody>\n",
       "</table>\n"
      ],
      "text/latex": [
       "\\begin{tabular}{r|lllllllll}\n",
       " Survived & Pclass & Sex & Age & SibSp & Parch & Ticket & Fare & Embarked\\\\\n",
       "\\hline\n",
       "\t 0       & 3       & 1       & 34.5    & 0       & 0       &  330911 &  7.8292 & 1      \\\\\n",
       "\t 1       & 3       & 0       & 47.0    & 1       & 0       &  363272 &  7.0000 & 2      \\\\\n",
       "\t 0       & 2       & 1       & 62.0    & 0       & 0       &  240276 &  9.6875 & 1      \\\\\n",
       "\t 0       & 3       & 1       & 27.0    & 0       & 0       &  315154 &  8.6625 & 2      \\\\\n",
       "\t 1       & 3       & 0       & 22.0    & 1       & 1       & 3101298 & 12.2875 & 2      \\\\\n",
       "\t 0       & 3       & 1       & 14.0    & 0       & 0       &    7538 &  9.2250 & 2      \\\\\n",
       "\\end{tabular}\n"
      ],
      "text/markdown": [
       "\n",
       "| Survived | Pclass | Sex | Age | SibSp | Parch | Ticket | Fare | Embarked |\n",
       "|---|---|---|---|---|---|---|---|---|\n",
       "| 0       | 3       | 1       | 34.5    | 0       | 0       |  330911 |  7.8292 | 1       |\n",
       "| 1       | 3       | 0       | 47.0    | 1       | 0       |  363272 |  7.0000 | 2       |\n",
       "| 0       | 2       | 1       | 62.0    | 0       | 0       |  240276 |  9.6875 | 1       |\n",
       "| 0       | 3       | 1       | 27.0    | 0       | 0       |  315154 |  8.6625 | 2       |\n",
       "| 1       | 3       | 0       | 22.0    | 1       | 1       | 3101298 | 12.2875 | 2       |\n",
       "| 0       | 3       | 1       | 14.0    | 0       | 0       |    7538 |  9.2250 | 2       |\n",
       "\n"
      ],
      "text/plain": [
       "  Survived Pclass Sex Age  SibSp Parch Ticket  Fare    Embarked\n",
       "1 0        3      1   34.5 0     0      330911  7.8292 1       \n",
       "2 1        3      0   47.0 1     0      363272  7.0000 2       \n",
       "3 0        2      1   62.0 0     0      240276  9.6875 1       \n",
       "4 0        3      1   27.0 0     0      315154  8.6625 2       \n",
       "5 1        3      0   22.0 1     1     3101298 12.2875 2       \n",
       "6 0        3      1   14.0 0     0        7538  9.2250 2       "
      ]
     },
     "metadata": {},
     "output_type": "display_data"
    }
   ],
   "source": [
    "head(df_1)\n"
   ]
  },
  {
   "cell_type": "code",
   "execution_count": 37,
   "metadata": {
    "vscode": {
     "languageId": "r"
    }
   },
   "outputs": [
    {
     "data": {
      "text/html": [
       "<ol class=list-inline>\n",
       "\t<li>3</li>\n",
       "\t<li>2</li>\n",
       "\t<li>1</li>\n",
       "</ol>\n"
      ],
      "text/latex": [
       "\\begin{enumerate*}\n",
       "\\item 3\n",
       "\\item 2\n",
       "\\item 1\n",
       "\\end{enumerate*}\n"
      ],
      "text/markdown": [
       "1. 3\n",
       "2. 2\n",
       "3. 1\n",
       "\n",
       "\n"
      ],
      "text/plain": [
       "[1] 3 2 1"
      ]
     },
     "metadata": {},
     "output_type": "display_data"
    }
   ],
   "source": [
    "unique(df_1$Pclass)\n"
   ]
  },
  {
   "cell_type": "code",
   "execution_count": 48,
   "metadata": {
    "vscode": {
     "languageId": "r"
    }
   },
   "outputs": [
    {
     "data": {
      "image/png": "[encoded data removed]",
      "text/plain": [
       "plot without title"
      ]
     },
     "metadata": {},
     "output_type": "display_data"
    }
   ],
   "source": [
    "boxplot(df_1[df_1$Pclass==1,]$Fare)\n"
   ]
  },
  {
   "cell_type": "code",
   "execution_count": 49,
   "metadata": {
    "vscode": {
     "languageId": "r"
    }
   },
   "outputs": [
    {
     "data": {
      "image/png": "[encoded data removed]",
      "text/plain": [
       "plot without title"
      ]
     },
     "metadata": {},
     "output_type": "display_data"
    }
   ],
   "source": [
    "boxplot(df_1[df_1$Pclass==2,]$Fare)\n"
   ]
  },
  {
   "cell_type": "code",
   "execution_count": 50,
   "metadata": {
    "vscode": {
     "languageId": "r"
    }
   },
   "outputs": [
    {
     "data": {
      "image/png": "[encoded data removed]",
      "text/plain": [
       "plot without title"
      ]
     },
     "metadata": {},
     "output_type": "display_data"
    }
   ],
   "source": [
    "boxplot(df_1[df_1$Pclass==3,]$Fare)\n"
   ]
  },
  {
   "cell_type": "code",
   "execution_count": 51,
   "metadata": {
    "vscode": {
     "languageId": "r"
    }
   },
   "outputs": [
    {
     "data": {
      "image/png": "[encoded data removed]",
      "text/plain": [
       "plot without title"
      ]
     },
     "metadata": {},
     "output_type": "display_data"
    }
   ],
   "source": [
    "boxplot(df_1[df_1$Sex==1,]$Fare)\n"
   ]
  },
  {
   "cell_type": "code",
   "execution_count": 52,
   "metadata": {
    "vscode": {
     "languageId": "r"
    }
   },
   "outputs": [
    {
     "data": {
      "image/png": "[encoded data removed]",
      "text/plain": [
       "plot without title"
      ]
     },
     "metadata": {},
     "output_type": "display_data"
    }
   ],
   "source": [
    "boxplot(df_1[df_1$Sex==0,]$Fare)\n"
   ]
  },
  {
   "cell_type": "code",
   "execution_count": null,
   "metadata": {
    "vscode": {
     "languageId": "r"
    }
   },
   "outputs": [],
   "source": []
  }
 ],
 "metadata": {
  "kernelspec": {
   "display_name": "R",
   "language": "R",
   "name": "ir"
  },
  "language_info": {
   "codemirror_mode": "r",
   "file_extension": ".r",
   "mimetype": "text/x-r-source",
   "name": "R",
   "pygments_lexer": "r",
   "version": "3.6.1"
  }
 },
 "nbformat": 4,
 "nbformat_minor": 2
}
